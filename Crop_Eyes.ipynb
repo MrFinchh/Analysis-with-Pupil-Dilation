{
 "cells": [
  {
   "cell_type": "code",
   "execution_count": 1,
   "metadata": {},
   "outputs": [],
   "source": [
    "from mtcnn import MTCNN"
   ]
  },
  {
   "cell_type": "code",
   "execution_count": 2,
   "metadata": {},
   "outputs": [],
   "source": [
    "import cv2"
   ]
  },
  {
   "cell_type": "code",
   "execution_count": 3,
   "metadata": {},
   "outputs": [],
   "source": [
    "from matplotlib import pyplot as plt"
   ]
  },
  {
   "cell_type": "code",
   "execution_count": 4,
   "metadata": {},
   "outputs": [],
   "source": [
    "import os"
   ]
  },
  {
   "cell_type": "code",
   "execution_count": 5,
   "metadata": {},
   "outputs": [],
   "source": [
    "detector = MTCNN()"
   ]
  },
  {
   "cell_type": "code",
   "execution_count": 6,
   "metadata": {},
   "outputs": [],
   "source": [
    "def get_margin(image):\n",
    "    y_margin = (image.shape[0] // 100) * 5\n",
    "    x_margin = (image.shape[1] // 100) * 5\n",
    "    return x_margin, y_margin"
   ]
  },
  {
   "cell_type": "code",
   "execution_count": 7,
   "metadata": {},
   "outputs": [],
   "source": [
    "def find_bounds(points, image):\n",
    "    x_margin, y_margin = get_margin(image)\n",
    "    x_center, y_center = points[0], points[1]\n",
    "    \n",
    "    x0 = x_center - x_margin\n",
    "    x1 = x_center + x_margin\n",
    "    \n",
    "    y0 = y_center - y_margin\n",
    "    y1 = y_center + y_margin\n",
    "    \n",
    "    return x0, x1, y0, y1"
   ]
  },
  {
   "cell_type": "code",
   "execution_count": 17,
   "metadata": {},
   "outputs": [],
   "source": [
    "def crop_eyes():\n",
    "    data_folder = '/media/finch/DATA/Bitirme Projesi/00000'\n",
    "    for filename in os.listdir(data_folder):\n",
    "\n",
    "        image = cv2.cvtColor(cv2.imread(os.path.join(data_folder,filename)), cv2.COLOR_BGR2RGB)\n",
    "        result = detector.detect_faces(image)\n",
    "        keypoints = result[0]['keypoints']\n",
    "        \n",
    "        x0, x1, y0, y1 = find_bounds(keypoints['right_eye'], image)\n",
    "        right_eye = image[y0:y1, x0:x1]\n",
    "        cv2.imwrite(\"images/\"+filename[:5]+'r'+'.png', cv2.cvtColor(right_eye, cv2.COLOR_RGB2BGR))\n",
    "        \n",
    "        x0, x1, y0, y1 = find_bounds(keypoints['left_eye'], image)\n",
    "        left_eye = image[y0:y1, x0:x1]\n",
    "        cv2.imwrite(\"images/\"+filename[:5]+'l'+'.png', cv2.cvtColor(left_eye, cv2.COLOR_RGB2BGR))"
   ]
  },
  {
   "cell_type": "code",
   "execution_count": 18,
   "metadata": {},
   "outputs": [],
   "source": [
    "crop_eyes()"
   ]
  },
  {
   "cell_type": "code",
   "execution_count": null,
   "metadata": {},
   "outputs": [],
   "source": []
  }
 ],
 "metadata": {
  "kernelspec": {
   "display_name": "Python 3",
   "language": "python",
   "name": "python3"
  },
  "language_info": {
   "codemirror_mode": {
    "name": "ipython",
    "version": 3
   },
   "file_extension": ".py",
   "mimetype": "text/x-python",
   "name": "python",
   "nbconvert_exporter": "python",
   "pygments_lexer": "ipython3",
   "version": "3.6.9"
  }
 },
 "nbformat": 4,
 "nbformat_minor": 4
}
